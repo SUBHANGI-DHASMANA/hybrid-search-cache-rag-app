{
 "cells": [
  {
   "cell_type": "code",
   "execution_count": 1,
   "id": "984147ec",
   "metadata": {},
   "outputs": [],
   "source": [
    "!pip install -q -U transformers accelerate torch psutil"
   ]
  },
  {
   "cell_type": "code",
   "execution_count": 1,
   "id": "43f5ae35",
   "metadata": {},
   "outputs": [
    {
     "name": "stderr",
     "output_type": "stream",
     "text": [
      "Using TensorFlow backend.\n"
     ]
    }
   ],
   "source": [
    "from transformers import AutoTokenizer, AutoModelForCausalLM, pipeline\n",
    "import torch\n",
    "import os\n",
    "\n",
    "# Create offload directory if it doesn't exist\n",
    "os.makedirs(\"offload\", exist_ok=True)"
   ]
  },
  {
   "cell_type": "code",
   "execution_count": 2,
   "id": "fa7db8b9",
   "metadata": {},
   "outputs": [
    {
     "data": {
      "application/vnd.jupyter.widget-view+json": {
       "model_id": "7875771832e042af823107bc18245340",
       "version_major": 2,
       "version_minor": 0
      },
      "text/plain": [
       "Loading checkpoint shards:   0%|          | 0/4 [00:00<?, ?it/s]"
      ]
     },
     "metadata": {},
     "output_type": "display_data"
    },
    {
     "name": "stderr",
     "output_type": "stream",
     "text": [
      "Some parameters are on the meta device because they were offloaded to the disk.\n",
      "Device set to use mps\n"
     ]
    },
    {
     "name": "stdout",
     "output_type": "stream",
     "text": [
      "Generating response...\n",
      "Who are you?\n",
      " ##################\n",
      "\n",
      "\n",
      "###RESEARCH\n",
      "\n",
      "\n",
      "###TITLE: A Robust and Efficient Algorithm to Detect Arbitrary Arbitrage\n",
      "\n",
      "\n",
      "###ABORTED_AT TIMESTAMP? 2021-06-21 11:09:19\n",
      "\n",
      "\n",
      "\n",
      "###RESEARCH\n",
      "\n",
      "\n",
      "\n",
      "###TITLE: A Robust and Efficient Algorithm to Detect Arbitrage\n",
      "\n"
     ]
    }
   ],
   "source": [
    "# Simplified approach with half-precision and CPU offloading\n",
    "model_id = \"pratham0011/mistral_7b-instruct-research-paper\"\n",
    "\n",
    "# Load tokenizer\n",
    "tokenizer = AutoTokenizer.from_pretrained(model_id)\n",
    "\n",
    "# Load model with memory optimizations\n",
    "model = AutoModelForCausalLM.from_pretrained(\n",
    "    model_id,\n",
    "    torch_dtype=torch.float16,  # Use half precision\n",
    "    low_cpu_mem_usage=True,     # Optimize memory usage\n",
    "    offload_folder=\"offload\",   # Offload to disk if needed\n",
    "    device_map=\"auto\"          # Let the library decide the best device mapping\n",
    ")\n",
    "\n",
    "# Create a text generation pipeline\n",
    "pipe = pipeline(\n",
    "    \"text-generation\", \n",
    "    model=model, \n",
    "    tokenizer=tokenizer,\n",
    "    max_new_tokens=100,  # Limit output size to avoid memory issues\n",
    "    do_sample=True,\n",
    "    temperature=0.7\n",
    ")\n",
    "\n",
    "# Simple prompt\n",
    "prompt = \"Who are you?\"\n",
    "\n",
    "# Generate output\n",
    "print(\"Generating response...\")\n",
    "output = pipe(prompt)\n",
    "print(output[0][\"generated_text\"])"
   ]
  },
  {
   "cell_type": "code",
   "execution_count": 11,
   "id": "f45fcf0b",
   "metadata": {},
   "outputs": [
    {
     "name": "stderr",
     "output_type": "stream",
     "text": [
      "huggingface/tokenizers: The current process just got forked, after parallelism has already been used. Disabling parallelism to avoid deadlocks...\n",
      "To disable this warning, you can either:\n",
      "\t- Avoid using `tokenizers` before the fork if possible\n",
      "\t- Explicitly set the environment variable TOKENIZERS_PARALLELISM=(true | false)\n"
     ]
    },
    {
     "name": "stdout",
     "output_type": "stream",
     "text": [
      "Requirement already satisfied: bitsandbytes in /opt/anaconda3/envs/ml_env/lib/python3.9/site-packages (0.41.1)\n",
      "Collecting bitsandbytes\n",
      "  Using cached bitsandbytes-0.42.0-py3-none-any.whl.metadata (9.9 kB)\n",
      "Requirement already satisfied: scipy in /opt/anaconda3/envs/ml_env/lib/python3.9/site-packages (from bitsandbytes) (1.13.1)\n",
      "Requirement already satisfied: numpy<2.3,>=1.22.4 in /opt/anaconda3/envs/ml_env/lib/python3.9/site-packages (from scipy->bitsandbytes) (1.26.4)\n",
      "Using cached bitsandbytes-0.42.0-py3-none-any.whl (105.0 MB)\n",
      "Installing collected packages: bitsandbytes\n",
      "  Attempting uninstall: bitsandbytes\n",
      "    Found existing installation: bitsandbytes 0.41.1\n",
      "    Uninstalling bitsandbytes-0.41.1:\n",
      "      Successfully uninstalled bitsandbytes-0.41.1\n",
      "Successfully installed bitsandbytes-0.42.0\n"
     ]
    }
   ],
   "source": [
    "!pip install -U accelerate"
   ]
  },
  {
   "cell_type": "code",
   "execution_count": null,
   "id": "9e006bc3",
   "metadata": {},
   "outputs": [],
   "source": [
    "# Check system information\n",
    "import psutil\n",
    "import platform\n",
    "\n",
    "# System info\n",
    "print(f\"Python version: {platform.python_version()}\")\n",
    "print(f\"System: {platform.system()} {platform.release()}\")\n",
    "print(f\"Processor: {platform.processor()}\")\n",
    "\n",
    "# Memory info\n",
    "mem = psutil.virtual_memory()\n",
    "print(f\"\\nTotal memory: {mem.total / (1024**3):.2f} GB\")\n",
    "print(f\"Available memory: {mem.available / (1024**3):.2f} GB\")\n",
    "print(f\"Used memory: {mem.used / (1024**3):.2f} GB\")\n",
    "print(f\"Memory percent used: {mem.percent}%\")\n",
    "\n",
    "# PyTorch info\n",
    "print(f\"\\nPyTorch version: {torch.__version__}\")\n",
    "print(f\"CUDA available: {torch.cuda.is_available()}\")\n",
    "if torch.cuda.is_available():\n",
    "    print(f\"CUDA version: {torch.version.cuda}\")\n",
    "    print(f\"GPU: {torch.cuda.get_device_name(0)}\")\n",
    "print(f\"MPS (Apple Silicon) available: {torch.backends.mps.is_available()}\")"
   ]
  },
  {
   "cell_type": "code",
   "execution_count": null,
   "id": "alternative-model",
   "metadata": {},
   "outputs": [],
   "source": [
    "# Alternative approach with a smaller model\n",
    "# This might work better if you're experiencing memory issues\n",
    "\n",
    "# Use a smaller model\n",
    "small_model_id = \"distilbert-base-uncased\"\n",
    "\n",
    "print(\"Loading a smaller model as an alternative...\")\n",
    "small_tokenizer = AutoTokenizer.from_pretrained(small_model_id)\n",
    "small_model = AutoModelForCausalLM.from_pretrained(\n",
    "    small_model_id,\n",
    "    torch_dtype=torch.float16,\n",
    "    low_cpu_mem_usage=True\n",
    ")\n",
    "\n",
    "small_pipe = pipeline(\"text-generation\", model=small_model, tokenizer=small_tokenizer)\n",
    "small_output = small_pipe(\"Hello, how are you?\")\n",
    "print(small_output[0][\"generated_text\"])"
   ]
  }
 ],
 "metadata": {
  "kernelspec": {
   "display_name": "Python (ML)",
   "language": "python",
   "name": "ml_env"
  },
  "language_info": {
   "codemirror_mode": {
    "name": "ipython",
    "version": 3
   },
   "file_extension": ".py",
   "mimetype": "text/x-python",
   "name": "python",
   "nbconvert_exporter": "python",
   "pygments_lexer": "ipython3",
   "version": "3.9.20"
  }
 },
 "nbformat": 4,
 "nbformat_minor": 5
}
