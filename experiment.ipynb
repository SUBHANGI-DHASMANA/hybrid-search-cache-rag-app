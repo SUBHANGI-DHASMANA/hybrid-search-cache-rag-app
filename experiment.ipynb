{
 "cells": [
  {
   "cell_type": "code",
   "execution_count": 1,
   "id": "984147ec",
   "metadata": {},
   "outputs": [],
   "source": [
    "!pip install -q -U transformers accelerate torch psutil"
   ]
  },
  {
   "cell_type": "code",
   "execution_count": null,
   "id": "43f5ae35",
   "metadata": {},
   "outputs": [
    {
     "name": "stderr",
     "output_type": "stream",
     "text": [
      "Using TensorFlow backend.\n"
     ]
    }
   ],
   "source": [
    "from transformers import AutoTokenizer, AutoModelForCausalLM, pipeline\n",
    "import torch\n",
    "import os\n",
    "\n",
    "os.makedirs(\"offload\", exist_ok=True)"
   ]
  },
  {
   "cell_type": "code",
   "execution_count": null,
   "id": "fa7db8b9",
   "metadata": {},
   "outputs": [
    {
     "data": {
      "application/vnd.jupyter.widget-view+json": {
       "model_id": "7875771832e042af823107bc18245340",
       "version_major": 2,
       "version_minor": 0
      },
      "text/plain": [
       "Loading checkpoint shards:   0%|          | 0/4 [00:00<?, ?it/s]"
      ]
     },
     "metadata": {},
     "output_type": "display_data"
    },
    {
     "name": "stderr",
     "output_type": "stream",
     "text": [
      "Some parameters are on the meta device because they were offloaded to the disk.\n",
      "Device set to use mps\n"
     ]
    },
    {
     "name": "stdout",
     "output_type": "stream",
     "text": [
      "Generating response...\n",
      "Who are you?\n",
      " ##################\n",
      "\n",
      "\n",
      "###RESEARCH\n",
      "\n",
      "\n",
      "###TITLE: A Robust and Efficient Algorithm to Detect Arbitrary Arbitrage\n",
      "\n",
      "\n",
      "###ABORTED_AT TIMESTAMP? 2021-06-21 11:09:19\n",
      "\n",
      "\n",
      "\n",
      "###RESEARCH\n",
      "\n",
      "\n",
      "\n",
      "###TITLE: A Robust and Efficient Algorithm to Detect Arbitrage\n",
      "\n"
     ]
    }
   ],
   "source": [
    "model_id = \"pratham0011/mistral_7b-instruct-research-paper\"\n",
    "\n",
    "tokenizer = AutoTokenizer.from_pretrained(model_id)\n",
    "\n",
    "model = AutoModelForCausalLM.from_pretrained(\n",
    "    model_id,\n",
    "    torch_dtype=torch.float16,\n",
    "    low_cpu_mem_usage=True,\n",
    "    offload_folder=\"offload\",\n",
    "    device_map=\"auto\"        \n",
    ")\n",
    "\n",
    "pipe = pipeline(\n",
    "    \"text-generation\", \n",
    "    model=model, \n",
    "    tokenizer=tokenizer,\n",
    "    max_new_tokens=100,\n",
    "    do_sample=True,\n",
    "    temperature=0.7\n",
    ")\n",
    "\n",
    "prompt = \"Who are you?\"\n",
    "\n",
    "print(\"Generating response...\")\n",
    "output = pipe(prompt)\n",
    "print(output[0][\"generated_text\"])"
   ]
  }
 ],
 "metadata": {
  "kernelspec": {
   "display_name": "Python (ML)",
   "language": "python",
   "name": "ml_env"
  },
  "language_info": {
   "codemirror_mode": {
    "name": "ipython",
    "version": 3
   },
   "file_extension": ".py",
   "mimetype": "text/x-python",
   "name": "python",
   "nbconvert_exporter": "python",
   "pygments_lexer": "ipython3",
   "version": "3.9.20"
  }
 },
 "nbformat": 4,
 "nbformat_minor": 5
}
